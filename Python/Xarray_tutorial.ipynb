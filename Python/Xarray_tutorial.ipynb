{
 "cells": [
  {
   "cell_type": "markdown",
   "metadata": {},
   "source": [
    "# Xarray Tutorial"
   ]
  },
  {
   "cell_type": "markdown",
   "metadata": {},
   "source": [
    "![xarray image](https://i2.wp.com/numfocus.org/wp-content/uploads/2018/09/xarray-logo-square.png)\n"
   ]
  },
  {
   "cell_type": "markdown",
   "metadata": {},
   "source": [
    "Xarray is an open source project and Python package that makes working with labelled multi-dimensional arrays simple, efficient, and fun!\n",
    "\n",
    "Xarray introduces labels in the form of dimensions, coordinates and attributes on top of raw NumPy-like arrays, which allows for a more intuitive, more concise, and less error-prone developer experience. The package includes a large and growing library of domain-agnostic functions for advanced analytics and visualization with these data structures.\n",
    "\n",
    "Xarray was inspired by and borrows heavily from pandas, the popular data analysis package focused on labelled tabular data. It is particularly tailored to working with netCDF files, which were the source of xarray’s data model, and integrates tightly with dask for parallel computing."
   ]
  },
  {
   "cell_type": "markdown",
   "metadata": {},
   "source": [
    "## Spatial Data & Xarray"
   ]
  },
  {
   "cell_type": "markdown",
   "metadata": {},
   "source": [
    "Xarray is an efficient and useful way to read, edit, quality control, and display spatial data. It organizes spatial datasets quickly and succinctly. It also organizes metadata in a human friendly format. Xarray is especially good with the following:\n",
    "\n",
    "- Gridded, multi-dimensional and large datasets, commonly used in earth sciences, but also\n",
    "increasingly finance, engineering (signal/image processing), and biological sciences\n",
    "- Integration with other data analysis packages such as Pandas\n",
    "- I/O operations (NetCDF)\n",
    "- Plotting\n",
    "\n",
    "\n",
    "Xarray can do things that a low-level (but important!) package like numpy cannot."
   ]
  },
  {
   "cell_type": "markdown",
   "metadata": {},
   "source": [
    "## Xarray List of Functions & Descriptions\n",
    "\n",
    "http://xarray.pydata.org/en/stable/api.html"
   ]
  },
  {
   "cell_type": "code",
   "execution_count": 1,
   "metadata": {},
   "outputs": [
    {
     "data": {
      "text/plain": [
       "<xarray.Dataset>\n",
       "Dimensions:  (lat: 25, lon: 53, time: 2920)\n",
       "Coordinates:\n",
       "  * lat      (lat) float32 75.0 72.5 70.0 67.5 65.0 62.5 60.0 57.5 55.0 52.5 ...\n",
       "  * lon      (lon) float32 200.0 202.5 205.0 207.5 210.0 212.5 215.0 217.5 ...\n",
       "  * time     (time) datetime64[ns] 2013-01-01 2013-01-01T06:00:00 ...\n",
       "Data variables:\n",
       "    air      (time, lat, lon) float32 241.2 242.5 243.5 244.0 244.09999 ...\n",
       "Attributes:\n",
       "    Conventions:  COARDS\n",
       "    title:        4x daily NMC reanalysis (1948)\n",
       "    description:  Data is from NMC initialized reanalysis\\n(4x/day).  These a...\n",
       "    platform:     Model\n",
       "    references:   http://www.esrl.noaa.gov/psd/data/gridded/data.ncep.reanaly..."
      ]
     },
     "execution_count": 1,
     "metadata": {},
     "output_type": "execute_result"
    }
   ],
   "source": [
    "import numpy as np\n",
    "import pandas as pd\n",
    "import matplotlib.pyplot as plt\n",
    "import xarray as xr\n",
    "\n",
    "# load in a built-in tutorial dataset from xarray\n",
    "ds = xr.tutorial.load_dataset('air_temperature')\n",
    "\n",
    "ds"
   ]
  },
  {
   "cell_type": "markdown",
   "metadata": {},
   "source": [
    "> Make note of the Data variables descriptor: this is our variable data variable name. Let's print it out and see what xarray can tell us about this variable"
   ]
  },
  {
   "cell_type": "code",
   "execution_count": 3,
   "metadata": {},
   "outputs": [
    {
     "data": {
      "text/plain": [
       "<xarray.DataArray 'air' (time: 2920, lat: 25, lon: 53)>\n",
       "array([[[241.2    , 242.5    , ..., 235.5    , 238.59999],\n",
       "        [243.79999, 244.5    , ..., 235.29999, 239.29999],\n",
       "        ...,\n",
       "        [295.9    , 296.19998, ..., 295.9    , 295.19998],\n",
       "        [296.29   , 296.79   , ..., 296.79   , 296.6    ]],\n",
       "\n",
       "       [[242.09999, 242.7    , ..., 233.59999, 235.79999],\n",
       "        [243.59999, 244.09999, ..., 232.5    , 235.7    ],\n",
       "        ...,\n",
       "        [296.19998, 296.69998, ..., 295.5    , 295.1    ],\n",
       "        [296.29   , 297.19998, ..., 296.4    , 296.6    ]],\n",
       "\n",
       "       ...,\n",
       "\n",
       "       [[245.79   , 244.79   , ..., 243.98999, 244.79   ],\n",
       "        [249.89   , 249.29   , ..., 242.48999, 244.29   ],\n",
       "        ...,\n",
       "        [296.29   , 297.19   , ..., 295.09   , 294.38998],\n",
       "        [297.79   , 298.38998, ..., 295.49   , 295.19   ]],\n",
       "\n",
       "       [[245.09   , 244.29   , ..., 241.48999, 241.79   ],\n",
       "        [249.89   , 249.29   , ..., 240.29   , 241.68999],\n",
       "        ...,\n",
       "        [296.09   , 296.88998, ..., 295.69   , 295.19   ],\n",
       "        [297.69   , 298.09   , ..., 296.19   , 295.69   ]]], dtype=float32)\n",
       "Coordinates:\n",
       "  * lat      (lat) float32 75.0 72.5 70.0 67.5 65.0 62.5 60.0 57.5 55.0 52.5 ...\n",
       "  * lon      (lon) float32 200.0 202.5 205.0 207.5 210.0 212.5 215.0 217.5 ...\n",
       "  * time     (time) datetime64[ns] 2013-01-01 2013-01-01T06:00:00 ...\n",
       "Attributes:\n",
       "    long_name:     4xDaily Air temperature at sigma level 995\n",
       "    units:         degK\n",
       "    precision:     2\n",
       "    GRIB_id:       11\n",
       "    GRIB_name:     TMP\n",
       "    var_desc:      Air temperature\n",
       "    dataset:       NMC Reanalysis\n",
       "    level_desc:    Surface\n",
       "    statistic:     Individual Obs\n",
       "    parent_stat:   Other\n",
       "    actual_range:  [185.16 322.1 ]"
      ]
     },
     "execution_count": 3,
     "metadata": {},
     "output_type": "execute_result"
    }
   ],
   "source": [
    "ds.air"
   ]
  },
  {
   "cell_type": "markdown",
   "metadata": {},
   "source": [
    "### We can break down air even further to really extract key data or metadata from it"
   ]
  },
  {
   "cell_type": "code",
   "execution_count": 4,
   "metadata": {},
   "outputs": [
    {
     "data": {
      "text/plain": [
       "OrderedDict([('long_name', '4xDaily Air temperature at sigma level 995'),\n",
       "             ('units', 'degK'),\n",
       "             ('precision', 2),\n",
       "             ('GRIB_id', 11),\n",
       "             ('GRIB_name', 'TMP'),\n",
       "             ('var_desc', 'Air temperature'),\n",
       "             ('dataset', 'NMC Reanalysis'),\n",
       "             ('level_desc', 'Surface'),\n",
       "             ('statistic', 'Individual Obs'),\n",
       "             ('parent_stat', 'Other'),\n",
       "             ('actual_range', array([185.16, 322.1 ], dtype=float32))])"
      ]
     },
     "execution_count": 4,
     "metadata": {},
     "output_type": "execute_result"
    }
   ],
   "source": [
    "ds.air.attrs"
   ]
  },
  {
   "cell_type": "code",
   "execution_count": 5,
   "metadata": {},
   "outputs": [
    {
     "data": {
      "text/plain": [
       "array([[[241.2    , 242.5    , 243.5    , ..., 232.79999, 235.5    ,\n",
       "         238.59999],\n",
       "        [243.79999, 244.5    , 244.7    , ..., 232.79999, 235.29999,\n",
       "         239.29999],\n",
       "        [250.     , 249.79999, 248.89   , ..., 233.2    , 236.39   ,\n",
       "         241.7    ],\n",
       "        ...,\n",
       "        [296.6    , 296.19998, 296.4    , ..., 295.4    , 295.1    ,\n",
       "         294.69998],\n",
       "        [295.9    , 296.19998, 296.79   , ..., 295.9    , 295.9    ,\n",
       "         295.19998],\n",
       "        [296.29   , 296.79   , 297.1    , ..., 296.9    , 296.79   ,\n",
       "         296.6    ]],\n",
       "\n",
       "       [[242.09999, 242.7    , 243.09999, ..., 232.     , 233.59999,\n",
       "         235.79999],\n",
       "        [243.59999, 244.09999, 244.2    , ..., 231.     , 232.5    ,\n",
       "         235.7    ],\n",
       "        [253.2    , 252.89   , 252.09999, ..., 230.79999, 233.39   ,\n",
       "         238.5    ],\n",
       "        ...,\n",
       "        [296.4    , 295.9    , 296.19998, ..., 295.4    , 295.1    ,\n",
       "         294.79   ],\n",
       "        [296.19998, 296.69998, 296.79   , ..., 295.6    , 295.5    ,\n",
       "         295.1    ],\n",
       "        [296.29   , 297.19998, 297.4    , ..., 296.4    , 296.4    ,\n",
       "         296.6    ]],\n",
       "\n",
       "       [[242.29999, 242.2    , 242.29999, ..., 234.29999, 236.09999,\n",
       "         238.7    ],\n",
       "        [244.59999, 244.39   , 244.     , ..., 230.29999, 232.     ,\n",
       "         235.7    ],\n",
       "        [256.19998, 255.5    , 254.2    , ..., 231.2    , 233.2    ,\n",
       "         238.2    ],\n",
       "        ...,\n",
       "        [295.6    , 295.4    , 295.4    , ..., 296.29   , 295.29   ,\n",
       "         295.     ],\n",
       "        [296.19998, 296.5    , 296.29   , ..., 296.4    , 296.     ,\n",
       "         295.6    ],\n",
       "        [296.4    , 296.29   , 296.4    , ..., 297.     , 297.     ,\n",
       "         296.79   ]],\n",
       "\n",
       "       ...,\n",
       "\n",
       "       [[243.48999, 242.98999, 242.09   , ..., 244.18999, 244.48999,\n",
       "         244.89   ],\n",
       "        [249.09   , 248.98999, 248.59   , ..., 240.59   , 241.29   ,\n",
       "         242.68999],\n",
       "        [262.69   , 262.19   , 261.69   , ..., 239.39   , 241.68999,\n",
       "         245.18999],\n",
       "        ...,\n",
       "        [294.79   , 295.29   , 297.49   , ..., 295.49   , 295.38998,\n",
       "         294.69   ],\n",
       "        [296.79   , 297.88998, 298.29   , ..., 295.49   , 295.49   ,\n",
       "         294.79   ],\n",
       "        [298.19   , 299.19   , 298.79   , ..., 296.09   , 295.79   ,\n",
       "         295.79   ]],\n",
       "\n",
       "       [[245.79   , 244.79   , 243.48999, ..., 243.29   , 243.98999,\n",
       "         244.79   ],\n",
       "        [249.89   , 249.29   , 248.48999, ..., 241.29   , 242.48999,\n",
       "         244.29   ],\n",
       "        [262.38998, 261.79   , 261.29   , ..., 240.48999, 243.09   ,\n",
       "         246.89   ],\n",
       "        ...,\n",
       "        [293.69   , 293.88998, 295.38998, ..., 295.09   , 294.69   ,\n",
       "         294.29   ],\n",
       "        [296.29   , 297.19   , 297.59   , ..., 295.29   , 295.09   ,\n",
       "         294.38998],\n",
       "        [297.79   , 298.38998, 298.49   , ..., 295.69   , 295.49   ,\n",
       "         295.19   ]],\n",
       "\n",
       "       [[245.09   , 244.29   , 243.29   , ..., 241.68999, 241.48999,\n",
       "         241.79   ],\n",
       "        [249.89   , 249.29   , 248.39   , ..., 239.59   , 240.29   ,\n",
       "         241.68999],\n",
       "        [262.99   , 262.19   , 261.38998, ..., 239.89   , 242.59   ,\n",
       "         246.29   ],\n",
       "        ...,\n",
       "        [293.79   , 293.69   , 295.09   , ..., 295.29   , 295.09   ,\n",
       "         294.69   ],\n",
       "        [296.09   , 296.88998, 297.19   , ..., 295.69   , 295.69   ,\n",
       "         295.19   ],\n",
       "        [297.69   , 298.09   , 298.09   , ..., 296.49   , 296.19   ,\n",
       "         295.69   ]]], dtype=float32)"
      ]
     },
     "execution_count": 5,
     "metadata": {},
     "output_type": "execute_result"
    }
   ],
   "source": [
    "ds.air.values"
   ]
  },
  {
   "cell_type": "code",
   "execution_count": 6,
   "metadata": {},
   "outputs": [
    {
     "data": {
      "text/plain": [
       "numpy.ndarray"
      ]
     },
     "execution_count": 6,
     "metadata": {},
     "output_type": "execute_result"
    }
   ],
   "source": [
    "type(ds.air.values)"
   ]
  },
  {
   "cell_type": "markdown",
   "metadata": {},
   "source": [
    "> At it's core, the data is still stored as a numpy array. Let's average this array by the time dimension..."
   ]
  },
  {
   "cell_type": "markdown",
   "metadata": {},
   "source": [
    "#### Let's only keep air temperatures greater than 0 Kelvin (theoretical minimum temperature of the universe)"
   ]
  },
  {
   "cell_type": "code",
   "execution_count": null,
   "metadata": {},
   "outputs": [],
   "source": [
    "ds = ds.where(ds.air > 0)"
   ]
  },
  {
   "cell_type": "markdown",
   "metadata": {},
   "source": [
    "> Here we are using the **xarray.where()** function on **ds**, our xarray dataframe. Note that we need to specify that we want the air (variable within ds) values greater than 0."
   ]
  },
  {
   "cell_type": "code",
   "execution_count": 11,
   "metadata": {},
   "outputs": [
    {
     "data": {
      "text/plain": [
       "<xarray.DataArray 'air' (lat: 25, lon: 53)>\n",
       "array([[260.37564, 260.1826 , 259.88593, ..., 250.81511, 251.93733, 253.43741],\n",
       "       [262.7337 , 262.7936 , 262.7489 , ..., 249.75496, 251.5852 , 254.35849],\n",
       "       [264.7681 , 264.3271 , 264.0614 , ..., 250.60707, 253.58247, 257.71475],\n",
       "       ...,\n",
       "       [297.64932, 296.95294, 296.62912, ..., 296.81033, 296.28793, 295.81622],\n",
       "       [298.1287 , 297.93646, 297.47006, ..., 296.8591 , 296.77686, 296.44348],\n",
       "       [298.36594, 298.38593, 298.11386, ..., 297.33777, 297.28104, 297.30502]],\n",
       "      dtype=float32)\n",
       "Coordinates:\n",
       "  * lat      (lat) float32 75.0 72.5 70.0 67.5 65.0 62.5 60.0 57.5 55.0 52.5 ...\n",
       "  * lon      (lon) float32 200.0 202.5 205.0 207.5 210.0 212.5 215.0 217.5 ..."
      ]
     },
     "execution_count": 11,
     "metadata": {},
     "output_type": "execute_result"
    }
   ],
   "source": [
    "temp_kelvin = ds.air.mean(dim='time')\n",
    "# so what is temp now?\n",
    "temp_kelvin\n"
   ]
  },
  {
   "cell_type": "markdown",
   "metadata": {},
   "source": [
    "> temp is now a data array with the same lat/lon coordinates but only has 1 time dimension because we averaged it out"
   ]
  },
  {
   "cell_type": "code",
   "execution_count": 12,
   "metadata": {},
   "outputs": [
    {
     "data": {
      "text/plain": [
       "<matplotlib.collections.QuadMesh at 0x323b54d68>"
      ]
     },
     "execution_count": 12,
     "metadata": {},
     "output_type": "execute_result"
    },
    {
     "data": {
      "image/png": "[encoded data removed]",
      "text/plain": [
       "<Figure size 432x288 with 2 Axes>"
      ]
     },
     "metadata": {
      "needs_background": "light"
     },
     "output_type": "display_data"
    }
   ],
   "source": [
    "temp_kelvin.plot()"
   ]
  },
  {
   "cell_type": "markdown",
   "metadata": {},
   "source": [
    "> Notice that the output code lists \"matplotlib.collections.QuadMesh\", which signals that although we only used xarray dataset in our code to visualize this data, we still use matplotlib quadmesh plotting function to generate a plot"
   ]
  },
  {
   "cell_type": "code",
   "execution_count": 13,
   "metadata": {},
   "outputs": [
    {
     "data": {
      "text/plain": [
       "<matplotlib.collections.QuadMesh at 0x323afae10>"
      ]
     },
     "execution_count": 13,
     "metadata": {},
     "output_type": "execute_result"
    },
    {
     "data": {
      "image/png": "[encoded data removed]",
      "text/plain": [
       "<Figure size 432x288 with 2 Axes>"
      ]
     },
     "metadata": {
      "needs_background": "light"
     },
     "output_type": "display_data"
    }
   ],
   "source": [
    "temp_celsius = temp_kelvin - 273.15 \n",
    "temp_celsius.plot()"
   ]
  },
  {
   "cell_type": "markdown",
   "metadata": {},
   "source": [
    "### Now that we have these datasets that have the same x-y dimensions, can we add them to our original dataset ds?"
   ]
  },
  {
   "cell_type": "code",
   "execution_count": 15,
   "metadata": {},
   "outputs": [
    {
     "data": {
      "text/plain": [
       "<xarray.Dataset>\n",
       "Dimensions:       (lat: 25, lon: 53, time: 2920)\n",
       "Coordinates:\n",
       "  * lat           (lat) float32 75.0 72.5 70.0 67.5 65.0 62.5 60.0 57.5 55.0 ...\n",
       "  * lon           (lon) float32 200.0 202.5 205.0 207.5 210.0 212.5 215.0 ...\n",
       "  * time          (time) datetime64[ns] 2013-01-01 2013-01-01T06:00:00 ...\n",
       "Data variables:\n",
       "    air           (time, lat, lon) float32 241.2 242.5 243.5 244.0 244.09999 ...\n",
       "    temp_celsius  (lat, lon) float32 -12.774353 -12.967407 -13.264069 ...\n",
       "    temp_kelvin   (lat, lon) float32 260.37564 260.1826 259.88593 259.48196 ...\n",
       "Attributes:\n",
       "    Conventions:  COARDS\n",
       "    title:        4x daily NMC reanalysis (1948)\n",
       "    description:  Data is from NMC initialized reanalysis\\n(4x/day).  These a...\n",
       "    platform:     Model\n",
       "    references:   http://www.esrl.noaa.gov/psd/data/gridded/data.ncep.reanaly..."
      ]
     },
     "execution_count": 15,
     "metadata": {},
     "output_type": "execute_result"
    }
   ],
   "source": [
    "ds['temp_celsius'] = temp_celsius\n",
    "ds['temp_kelvin'] = temp_kelvin\n",
    "ds"
   ]
  },
  {
   "cell_type": "markdown",
   "metadata": {},
   "source": [
    "> Notice our new data variables have been added"
   ]
  },
  {
   "cell_type": "code",
   "execution_count": 27,
   "metadata": {},
   "outputs": [
    {
     "data": {
      "text/plain": [
       "<xarray.DataArray 'temp_kelvin' (lat: 25, lon: 53)>\n",
       "array([[260.37564, 260.1826 , 259.88593, ..., 250.81511, 251.93733, 253.43741],\n",
       "       [262.7337 , 262.7936 , 262.7489 , ..., 249.75496, 251.5852 , 254.35849],\n",
       "       [264.7681 , 264.3271 , 264.0614 , ..., 250.60707, 253.58247, 257.71475],\n",
       "       ...,\n",
       "       [297.64932, 296.95294, 296.62912, ..., 296.81033, 296.28793, 295.81622],\n",
       "       [298.1287 , 297.93646, 297.47006, ..., 296.8591 , 296.77686, 296.44348],\n",
       "       [298.36594, 298.38593, 298.11386, ..., 297.33777, 297.28104, 297.30502]],\n",
       "      dtype=float32)\n",
       "Coordinates:\n",
       "  * lat      (lat) float32 75.0 72.5 70.0 67.5 65.0 62.5 60.0 57.5 55.0 52.5 ...\n",
       "  * lon      (lon) float32 200.0 202.5 205.0 207.5 210.0 212.5 215.0 217.5 ...\n",
       "Attributes:\n",
       "    Description:  Mean air tempterature (through time)"
      ]
     },
     "execution_count": 27,
     "metadata": {},
     "output_type": "execute_result"
    }
   ],
   "source": [
    "ds.temp_kelvin"
   ]
  },
  {
   "cell_type": "code",
   "execution_count": 28,
   "metadata": {},
   "outputs": [
    {
     "data": {
      "text/plain": [
       "('lat', 'lon')"
      ]
     },
     "execution_count": 28,
     "metadata": {},
     "output_type": "execute_result"
    }
   ],
   "source": [
    "ds.temp_kelvin.dims # dimensions of temp_celsius"
   ]
  },
  {
   "cell_type": "code",
   "execution_count": 29,
   "metadata": {},
   "outputs": [
    {
     "data": {
      "text/plain": [
       "OrderedDict([('Description', 'Mean air tempterature (through time)')])"
      ]
     },
     "execution_count": 29,
     "metadata": {},
     "output_type": "execute_result"
    }
   ],
   "source": [
    "ds.temp_kelvin.attrs"
   ]
  },
  {
   "cell_type": "markdown",
   "metadata": {},
   "source": [
    "> There are no attributes for temp_kelvin, so let's add those!"
   ]
  },
  {
   "cell_type": "code",
   "execution_count": 30,
   "metadata": {},
   "outputs": [],
   "source": [
    "ds.temp_kelvin.attrs['Description'] = 'Mean air tempterature (through time)'"
   ]
  },
  {
   "cell_type": "code",
   "execution_count": 31,
   "metadata": {},
   "outputs": [
    {
     "data": {
      "text/plain": [
       "OrderedDict([('Description', 'Mean air tempterature (through time)')])"
      ]
     },
     "execution_count": 31,
     "metadata": {},
     "output_type": "execute_result"
    }
   ],
   "source": [
    "ds.temp_kelvin.attrs"
   ]
  },
  {
   "cell_type": "markdown",
   "metadata": {},
   "source": [
    "> We're done with this data, but we want to save what we did...how can we do that?\n",
    "### We can write this dataset straight to a netcdf file !!!"
   ]
  },
  {
   "cell_type": "code",
   "execution_count": null,
   "metadata": {},
   "outputs": [],
   "source": [
    "ds.to_netcdf('new_file.nc')"
   ]
  },
  {
   "cell_type": "markdown",
   "metadata": {},
   "source": [
    "## Indexing Xarray Datasets"
   ]
  },
  {
   "cell_type": "markdown",
   "metadata": {},
   "source": [
    "- We can index xarray datasets just like we learned in the numpy tutorial"
   ]
  },
  {
   "cell_type": "code",
   "execution_count": 32,
   "metadata": {},
   "outputs": [
    {
     "data": {
      "text/plain": [
       "<xarray.DataArray 'air' (time: 2920)>\n",
       "array([244.7    , 244.2    , 244.     , ..., 248.59   , 248.48999, 248.39   ],\n",
       "      dtype=float32)\n",
       "Coordinates:\n",
       "    lat      float32 72.5\n",
       "    lon      float32 205.0\n",
       "  * time     (time) datetime64[ns] 2013-01-01 2013-01-01T06:00:00 ...\n",
       "Attributes:\n",
       "    long_name:     4xDaily Air temperature at sigma level 995\n",
       "    units:         degK\n",
       "    precision:     2\n",
       "    GRIB_id:       11\n",
       "    GRIB_name:     TMP\n",
       "    var_desc:      Air temperature\n",
       "    dataset:       NMC Reanalysis\n",
       "    level_desc:    Surface\n",
       "    statistic:     Individual Obs\n",
       "    parent_stat:   Other\n",
       "    actual_range:  [185.16 322.1 ]"
      ]
     },
     "execution_count": 32,
     "metadata": {},
     "output_type": "execute_result"
    }
   ],
   "source": [
    "ds.air[:, 1, 2] "
   ]
  },
  {
   "cell_type": "markdown",
   "metadata": {},
   "source": [
    "> Notice how lat & lon values are now set, meaning that the data is stored [time, lat, lon]"
   ]
  },
  {
   "cell_type": "code",
   "execution_count": 33,
   "metadata": {},
   "outputs": [
    {
     "data": {
      "text/plain": [
       "[<matplotlib.lines.Line2D at 0x323d2eeb8>]"
      ]
     },
     "execution_count": 33,
     "metadata": {},
     "output_type": "execute_result"
    },
    {
     "data": {
      "image/png": "[encoded data removed]",
      "text/plain": [
       "<Figure size 432x288 with 1 Axes>"
      ]
     },
     "metadata": {
      "needs_background": "light"
     },
     "output_type": "display_data"
    }
   ],
   "source": [
    "ds.air[:,1,2].plot()"
   ]
  },
  {
   "cell_type": "markdown",
   "metadata": {},
   "source": [
    "- But remember, xarray is essentially an **advanced** numpy"
   ]
  },
  {
   "cell_type": "code",
   "execution_count": 37,
   "metadata": {},
   "outputs": [
    {
     "data": {
      "text/plain": [
       "<xarray.DataArray 'air' (time: 2920)>\n",
       "array([244.7    , 244.2    , 244.     , ..., 248.59   , 248.48999, 248.39   ],\n",
       "      dtype=float32)\n",
       "Coordinates:\n",
       "    lat      float32 72.5\n",
       "    lon      float32 205.0\n",
       "  * time     (time) datetime64[ns] 2013-01-01 2013-01-01T06:00:00 ...\n",
       "Attributes:\n",
       "    long_name:     4xDaily Air temperature at sigma level 995\n",
       "    units:         degK\n",
       "    precision:     2\n",
       "    GRIB_id:       11\n",
       "    GRIB_name:     TMP\n",
       "    var_desc:      Air temperature\n",
       "    dataset:       NMC Reanalysis\n",
       "    level_desc:    Surface\n",
       "    statistic:     Individual Obs\n",
       "    parent_stat:   Other\n",
       "    actual_range:  [185.16 322.1 ]"
      ]
     },
     "execution_count": 37,
     "metadata": {},
     "output_type": "execute_result"
    }
   ],
   "source": [
    "ds.air.sel(lat=72.5,lon=205.0)"
   ]
  },
  {
   "cell_type": "markdown",
   "metadata": {},
   "source": [
    "- here we used the ds.air.**sel()** function, **sel()** standing for select\n",
    "- This is the same output as ds.air[:,1,2]"
   ]
  },
  {
   "cell_type": "code",
   "execution_count": 38,
   "metadata": {},
   "outputs": [
    {
     "data": {
      "text/plain": [
       "[<matplotlib.lines.Line2D at 0x10f677908>]"
      ]
     },
     "execution_count": 38,
     "metadata": {},
     "output_type": "execute_result"
    },
    {
     "data": {
      "image/png": "[encoded data removed]",
      "text/plain": [
       "<Figure size 432x288 with 1 Axes>"
      ]
     },
     "metadata": {
      "needs_background": "light"
     },
     "output_type": "display_data"
    }
   ],
   "source": [
    "ds.air.sel(lat=72.5,lon=205.0).plot()"
   ]
  },
  {
   "cell_type": "markdown",
   "metadata": {},
   "source": [
    "### but wait...there's more!"
   ]
  },
  {
   "cell_type": "markdown",
   "metadata": {},
   "source": [
    "- we can also select via index instead of value. Let's grab the zeroth lat & lons..."
   ]
  },
  {
   "cell_type": "code",
   "execution_count": 44,
   "metadata": {},
   "outputs": [
    {
     "name": "stdout",
     "output_type": "stream",
     "text": [
      "<xarray.DataArray 'lat' ()>\n",
      "array(75., dtype=float32)\n",
      "Coordinates:\n",
      "    lat      float32 75.0\n",
      "Attributes:\n",
      "    standard_name:  latitude\n",
      "    long_name:      Latitude\n",
      "    units:          degrees_north\n",
      "    axis:           Y <xarray.DataArray 'lon' ()>\n",
      "array(200., dtype=float32)\n",
      "Coordinates:\n",
      "    lon      float32 200.0\n",
      "Attributes:\n",
      "    standard_name:  longitude\n",
      "    long_name:      Longitude\n",
      "    units:          degrees_east\n",
      "    axis:           X\n"
     ]
    }
   ],
   "source": [
    "lat0 = ds.lat[0]\n",
    "lon0 = ds.lon[0]\n",
    "print(lat0, lon0)"
   ]
  },
  {
   "cell_type": "code",
   "execution_count": 45,
   "metadata": {},
   "outputs": [
    {
     "data": {
      "text/plain": [
       "<xarray.DataArray 'air' (time: 2920)>\n",
       "array([241.2    , 242.09999, 242.29999, ..., 243.48999, 245.79   , 245.09   ],\n",
       "      dtype=float32)\n",
       "Coordinates:\n",
       "    lat      float32 75.0\n",
       "    lon      float32 200.0\n",
       "  * time     (time) datetime64[ns] 2013-01-01 2013-01-01T06:00:00 ...\n",
       "Attributes:\n",
       "    long_name:     4xDaily Air temperature at sigma level 995\n",
       "    units:         degK\n",
       "    precision:     2\n",
       "    GRIB_id:       11\n",
       "    GRIB_name:     TMP\n",
       "    var_desc:      Air temperature\n",
       "    dataset:       NMC Reanalysis\n",
       "    level_desc:    Surface\n",
       "    statistic:     Individual Obs\n",
       "    parent_stat:   Other\n",
       "    actual_range:  [185.16 322.1 ]"
      ]
     },
     "execution_count": 45,
     "metadata": {},
     "output_type": "execute_result"
    }
   ],
   "source": [
    "ds.air.isel(lat=0, lon=0)"
   ]
  },
  {
   "cell_type": "code",
   "execution_count": 46,
   "metadata": {},
   "outputs": [
    {
     "data": {
      "text/plain": [
       "[<matplotlib.lines.Line2D at 0x10f6eadd8>]"
      ]
     },
     "execution_count": 46,
     "metadata": {},
     "output_type": "execute_result"
    },
    {
     "data": {
      "image/png": "[encoded data removed]",
      "text/plain": [
       "<Figure size 432x288 with 1 Axes>"
      ]
     },
     "metadata": {
      "needs_background": "light"
     },
     "output_type": "display_data"
    }
   ],
   "source": [
    "ds.air.isel(lat=0, lon=0).plot()"
   ]
  },
  {
   "cell_type": "markdown",
   "metadata": {},
   "source": [
    "#### We can also do this for our other variables, although remember, they only have a single time dimension..."
   ]
  },
  {
   "cell_type": "code",
   "execution_count": 48,
   "metadata": {},
   "outputs": [
    {
     "data": {
      "text/plain": [
       "(array([0., 0., 0., 0., 0., 1., 0., 0., 0., 0.]),\n",
       " array([-13.274353, -13.174353, -13.074353, -12.974353, -12.874353,\n",
       "        -12.774353, -12.674353, -12.574353, -12.474353, -12.374353,\n",
       "        -12.274353], dtype=float32),\n",
       " <a list of 10 Patch objects>)"
      ]
     },
     "execution_count": 48,
     "metadata": {},
     "output_type": "execute_result"
    },
    {
     "data": {
      "image/png": "[encoded data removed]",
      "text/plain": [
       "<Figure size 432x288 with 1 Axes>"
      ]
     },
     "metadata": {
      "needs_background": "light"
     },
     "output_type": "display_data"
    }
   ],
   "source": [
    "ds.temp_celsius.isel(lat=0, lon=0).plot()"
   ]
  },
  {
   "cell_type": "markdown",
   "metadata": {},
   "source": [
    "#### let's look at a histogram of air temp now for 01/02/2013"
   ]
  },
  {
   "cell_type": "code",
   "execution_count": 49,
   "metadata": {},
   "outputs": [
    {
     "data": {
      "text/plain": [
       "(array([251., 532., 379., 296., 456., 613., 582., 510., 997., 684.]),\n",
       " array([232.39   , 239.361  , 246.332  , 253.30301, 260.274  , 267.245  ,\n",
       "        274.216  , 281.187  , 288.15802, 295.129  , 302.1    ],\n",
       "       dtype=float32),\n",
       " <a list of 10 Patch objects>)"
      ]
     },
     "execution_count": 49,
     "metadata": {},
     "output_type": "execute_result"
    },
    {
     "data": {
      "image/png": "[encoded data removed]",
      "text/plain": [
       "<Figure size 432x288 with 1 Axes>"
      ]
     },
     "metadata": {
      "needs_background": "light"
     },
     "output_type": "display_data"
    }
   ],
   "source": [
    "ds.air.sel(time='2013-01-02').plot()"
   ]
  },
  {
   "cell_type": "markdown",
   "metadata": {},
   "source": [
    "#### or a single time value"
   ]
  },
  {
   "cell_type": "code",
   "execution_count": 50,
   "metadata": {},
   "outputs": [
    {
     "data": {
      "text/plain": [
       "<matplotlib.collections.QuadMesh at 0x320ea6588>"
      ]
     },
     "execution_count": 50,
     "metadata": {},
     "output_type": "execute_result"
    },
    {
     "data": {
      "image/png": "[encoded data removed]",
      "text/plain": [
       "<Figure size 432x288 with 2 Axes>"
      ]
     },
     "metadata": {
      "needs_background": "light"
     },
     "output_type": "display_data"
    }
   ],
   "source": [
    "ds.air.sel(time='2013-01-02T06:00').plot()"
   ]
  },
  {
   "cell_type": "markdown",
   "metadata": {},
   "source": [
    "## Xarray Assignment\n",
    "\n",
    "#### Using the xarray tutorial dataset above, complete the following;\n",
    "\n",
    "1) Plot the 200th time dimension to create a map of North American temperatures like the one above. \n",
    "\n",
    "2) Plot time series of Newark, DE (39.6837° N, 75.7497° W) for the entire time window (2013-2015)\n",
    "\n",
    "3) Compute the average temperature for Newark, DE over the time series. Plot as histogram - (there will just be 1 value in histogram)\n",
    "\n",
    "#### Submit Plots only to Canvas"
   ]
  },
  {
   "cell_type": "code",
   "execution_count": null,
   "metadata": {},
   "outputs": [],
   "source": []
  }
 ],
 "metadata": {
  "kernelspec": {
   "display_name": "Python 3",
   "language": "python",
   "name": "python3"
  },
  "language_info": {
   "codemirror_mode": {
    "name": "ipython",
    "version": 3
   },
   "file_extension": ".py",
   "mimetype": "text/x-python",
   "name": "python",
   "nbconvert_exporter": "python",
   "pygments_lexer": "ipython3",
   "version": "3.8.3"
  }
 },
 "nbformat": 4,
 "nbformat_minor": 2
}
