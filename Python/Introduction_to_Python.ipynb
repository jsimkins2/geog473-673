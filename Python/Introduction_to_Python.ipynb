{
 "cells": [
  {
   "cell_type": "markdown",
   "metadata": {},
   "source": [
    "\n",
    "# Welcome to Python!\n",
    "\n",
    "Python is an open-source (aka free to use and develop) programming language used in many professional fields ranging from climate modeling to geospatial analysis to tracking citi-bike usage in NYC. Where there's a will to do something in Python, there is a way. It's quickly grown into one of the world's most popular programming languages, especially in the scientific fields. Currently, Python is the most popular programming language in the world: http://pypl.github.io/PYPL.html\n",
    "\n",
    "For this class, we'll be using the Anaconda Distribution of Python. Anaconda is a python and R distribution. It aims to provide everything you need (python wise) for data science \"out of the box\". You'll need to find Anaconda Navigator that's installed on your computer. Within this, we can select different IDE's (Integrated development environments) for Python which are just different ways to visualize Python programming and make it more human readable. Within Anaconda Navigator, you'll notice a few different options, but familiarize yourself with the Environment's tab and the Spyder IDE. \n",
    "\n",
    "Anaconda also maintains other Python services such as the Anaconda navigator (just a central location for your Python stuff) and has it's own IDE called Spyder, which we will be using in this class. What you're looking at on Github right now is called a Jupyter Notebook, and it's just Python code that is written and run out of cells. The output is displayed below the cells. You can think of Jupyter Notebook as the cousin of a Python IDE such as Spyder. Both execute Python code, but display it in different ways. Spyder is set up similar to R. \n",
    "\n",
    "\n",
    "## Python is not R\n",
    "Python programming logic is very similar to R, although the syntax is different amongst a few other things to note;\n",
    "\n",
    "- Python has no RStudio. In other words, there is no single IDE (integrated development environment) that runs the show here. There are 10-100 different IDE's for Python. Their sole purpose is to make Python programming more human readable and intuitive. Unfortunately, there is no IDE as good as RStudio...Once again, we'll be using Spyder in this class. \n",
    "\n",
    "- Python modules (aka packages) do not play nicely together all the time. In R, we could install whatever modules we wanted to at all times and they would all play nicely. Python is more like the wild west, there are more modules available for more purposes, but they have different dependencies (aka other packages they depend on to run properly). For example, you may want to use the 'basemap' module and the 'cartopy' module together in one script and for each of these modules, the JPEG module is a dependency - it needs JPEG to run. However, 'basemap' requires JPEG version 7.7, whereas 'cartopy' requires JPEG version 8.1. This creates some big headaches, and we need to be careful about which module/package is installed where. In order to work around this, we have different environments for different sets of packages. An environment is just a sandbox that doesn't know about packages/modules in another sandbox. We can have an environment called 'environment 1' where 'basemap' and 'JPEG version 7.7' are installed. We can have another environment called 'environment 2' where 'cartopy' and 'JPEG version 8.1' are installed. At the beginning of our Python session, we will have to source the environment we want should we want to use a specific one, otherwise the standard Base environment is loaded in. \n",
    "\n",
    "- Python is the programming language, but a few different services have been created to install what we want/need to do what we want in Python. These services are known as anaconda & pip. These are installers that can be used to download python packages from the web and install them in the environment of your choice. \n",
    "\n",
    "- Python only uses '=' to declare an object whereas R could use both '=' and '<-'\n",
    "\n",
    "- Both R and Python use the '#' symbol to indicate a comment within the code\n",
    "\n",
    "\n",
    "## Python 2 vs 3\n",
    "Differences in coding are relatively minor but can create issues.\n",
    "- Version 2.7 remains heavily used, but support for is deprecated.\n",
    "- **Version 3.5**, or higher, is what you should be using.\n",
    "\n",
    "We'll be using Python 3 in this class. \n",
    "\n",
    "# Terminology\n",
    "You need to become familiar with terms used typically for all programming languages\n",
    "\n",
    "| Term | Description | Example |\n",
    "|--|--|--|\n",
    "|Script|A file that contains one or more lines of Python code. Ends with the file exension `.py`.| `filename.py`\n",
    "|Code| Program content \n",
    "|Package or Module or Library|Something you import that contains a collection of functions and methods that perform useful actions without writing the code yourself.|`import numpy`\n",
    "|Statement| Instruction to a computer.| A line of code.\n",
    "|Assignment| A statement that binds an expression (object) to a variable (name)| `=`\n",
    "|Object| Anything that a variable can be referred to | a number, string, list, array, function, etc.\n",
    "|Variable| Name of an assigned object. |\n",
    "|Expression| Combo of numbers, text, variables, and operators that result in a new object when evaluated| `y = mx+b`\n",
    "|Function| A block of statements used to create a new object\n",
    "|Argument| A value passed to a function.| For the statement `max([1,9,5])`.<br> The object inside the `()` is the argument.\n",
    "|Algorithm| Recipe for how to solve a problem\n",
    "|Executable| File used to run a programs | `python`, `jupyter lab`\n",
    "|Verification| Providing evidence that the program works correctly\n",
    "|Debugging| Locating and correcting errors in a programs\n",
    "\n",
    "[Reference: Python Glossary](https://docs.python.org/3/glossary.html)"
   ]
  },
  {
   "cell_type": "markdown",
   "metadata": {},
   "source": [
    "# Variables\n",
    "In math/physics, variables are often part of equations/formulas. In computing languages, variables are much more flexible and can be assigned a value, then reused with a different value, etc.\n",
    "\n",
    "Variables are names that values are assigned to with the `=` operator. In programing, `=` means \"assigned to\" _not_ \"equals\".\n",
    "\n",
    "|Rules for Variable Names| Example|\n",
    "|--|--|\n",
    "|Can be a combos of letters and numbers.|`packers3`, `Leafs8`\n",
    "|Names are case sensitive.|`Pressure` is different from `pressure` and `PRESSURE`\n",
    "|Must start with a letter.| Good: `var1 = 5` <br> Bad: `1var = 5`\n",
    "|Can use underscores.| `dew_point`|\n",
    "|Should be descriptive.| `temp` or `temperature` is better than `t`.|\n",
    "|By convention, use all CAPS for constants:| `TEMP_0C_IN_K = 273.15`\n",
    "\n",
    ">Note: There are 32 keyword names that are reserved becuase they have special meaning in Python. Variable names cannot be words like `del`, `and`, `if`, `global`, `for`, etc. \n",
    "\n",
    "[Reference: Python Keywords](https://www.programiz.com/python-programming/keyword-list)\n",
    "[Reference: Univ Utah Python](https://github.com/johnhorel/ATMOS_5020_2019/blob/master/Sept_03_2019.md)\n"
   ]
  },
  {
   "cell_type": "code",
   "execution_count": 1,
   "metadata": {
    "collapsed": true
   },
   "outputs": [],
   "source": [
    "var1 = 1              # interger\n",
    "var2 = 2.34           # floating point numbers\n",
    "var3 = 5.6 + 7.8j     # complex numbers \n",
    "var4 = \"Hello World\"  # strings\n",
    "var5 = True           # booleans\n",
    "var6 = None           # special value to indicate the absence of a value"
   ]
  },
  {
   "cell_type": "markdown",
   "metadata": {},
   "source": [
    "To convert a value to an integer, try:\n",
    "\n",
    "    x = 5.333\n",
    "    y = int(x)\n",
    "    print(y, type(y))\n",
    "    print(x, type(x))\n",
    "\n",
    "\n",
    " >Note: The `#` symbol indicates the line is a comment and not code. Everything in the line after the symbol is disregarded when the line of code is run.\n",
    "\n",
    "## Assigning variables and using operators\n",
    "Try assigning a few variables and add the variables together.\n",
    "\n",
    "    # Convert degrees Celsius to degrees Fahrenheit\n",
    "    temp_c = 10\n",
    "    temp_f = temp_c * 9/5 + 32\n",
    "    \n",
    "   \n",
    "\n",
    "|Description|Operator|\n",
    "|--|--|\n",
    "| Plus | + |\n",
    "| Minus | - |\n",
    "| Multiply | * |\n",
    "| Divide | / |\n",
    "| Exponent | ** |\n",
    "| Equal to | == |\n",
    "| Not equal to | != |\n",
    "| Less than | < |\n",
    "| Greater than | > |\n",
    "| Greater than or equal to | >= |\n",
    "| Less than or equal to | <= |\n",
    "\n",
    "Try:\n",
    "\n",
    "    5 > 9           # Great than\n",
    "    10 == 3         # Equal to\n",
    "    12 <= 100       # Less than or equal to\n",
    "    12 != 3.4       # Not equal to\n",
    "    \n",
    "    b = 3 > 8\n",
    "    print(b)\n",
    "    type(b)"
   ]
  },
  {
   "cell_type": "markdown",
   "metadata": {},
   "source": [
    "# In Class Exercise\n",
    "\n",
    "Calculate the hypotenuse of a triangle with height=7 and width=4 "
   ]
  },
  {
   "cell_type": "markdown",
   "metadata": {},
   "source": [
    "## Data types"
   ]
  },
  {
   "cell_type": "code",
   "execution_count": 1,
   "metadata": {
    "collapsed": true
   },
   "outputs": [],
   "source": [
    "var1 = 1              # interger\n",
    "var2 = 2.34           # floating point numbers\n",
    "var3 = 5.6 + 7.8j     # complex numbers \n",
    "var4 = \"Hello World\"  # strings\n",
    "var5 = True           # booleans\n",
    "var6 = None           # special value to indicate the absence of a value"
   ]
  },
  {
   "cell_type": "code",
   "execution_count": null,
   "metadata": {
    "collapsed": true
   },
   "outputs": [],
   "source": [
    "print(\"var1 value:\", var1, \"type:\", type(var1))\n",
    "print(\"var2 value:\", var2, \"type:\", type(var2))\n",
    "print(\"var3 value:\", var3, \"type:\", type(var3))\n",
    "print(\"var4 value:\", var4, \"type:\", type(var4))\n",
    "print(\"var5 value:\", var5, \"type:\", type(var5))\n",
    "print(\"var6 value:\", var6, \"type:\", type(var6))"
   ]
  },
  {
   "cell_type": "markdown",
   "metadata": {},
   "source": [
    "# Containers\n",
    "\n",
    "Data types for holding many variables\n",
    "\n",
    "## Lists\n",
    "\n",
    "One-dimensional, ordered container whose contents and length can change (mutable)."
   ]
  },
  {
   "cell_type": "code",
   "execution_count": 1,
   "metadata": {},
   "outputs": [
    {
     "name": "stdout",
     "output_type": "stream",
     "text": [
      "['rain', 'snow', 'hail']\n",
      "('length:', 3)\n"
     ]
    }
   ],
   "source": [
    "weather = ['rain', 'snow', 'hail']  # create a list holding three elements\n",
    "print(weather)\n",
    "print('length:', len(weather))"
   ]
  },
  {
   "cell_type": "markdown",
   "metadata": {},
   "source": [
    "The elements of a list do not need to be of the same type:"
   ]
  },
  {
   "cell_type": "code",
   "execution_count": 4,
   "metadata": {},
   "outputs": [
    {
     "name": "stdout",
     "output_type": "stream",
     "text": [
      "['rain', 4.5, 99, None]\n"
     ]
    }
   ],
   "source": [
    "mixed_type_list = ['rain', 4.5, 99, None]\n",
    "print(mixed_type_list)"
   ]
  },
  {
   "cell_type": "markdown",
   "metadata": {},
   "source": [
    "### Elements can be added or removed from a list"
   ]
  },
  {
   "cell_type": "code",
   "execution_count": 5,
   "metadata": {},
   "outputs": [
    {
     "name": "stdout",
     "output_type": "stream",
     "text": [
      "['rain', 'snow', 'hail', 'drizzle']\n"
     ]
    }
   ],
   "source": [
    "weather = ['rain', 'snow', 'hail']\n",
    "weather.append('drizzle')  # add 'drizzle' to the end of the list\n",
    "print(weather)"
   ]
  },
  {
   "cell_type": "code",
   "execution_count": 6,
   "metadata": {},
   "outputs": [
    {
     "name": "stdout",
     "output_type": "stream",
     "text": [
      "['rain', 'graupel', 'snow', 'hail']\n"
     ]
    }
   ],
   "source": [
    "weather = ['rain', 'snow', 'hail']\n",
    "weather.insert(1, 'graupel')  # insert graupel before position 1\n",
    "print(weather)"
   ]
  },
  {
   "cell_type": "code",
   "execution_count": 7,
   "metadata": {},
   "outputs": [
    {
     "name": "stdout",
     "output_type": "stream",
     "text": [
      "['snow', 'hail']\n"
     ]
    }
   ],
   "source": [
    "weather = ['rain', 'snow', 'hail']\n",
    "del weather[0]  # remove the first element from the list\n",
    "print(weather)"
   ]
  },
  {
   "cell_type": "code",
   "execution_count": 8,
   "metadata": {},
   "outputs": [
    {
     "name": "stdout",
     "output_type": "stream",
     "text": [
      "observation: hail\n",
      "weather: ['rain', 'snow']\n"
     ]
    }
   ],
   "source": [
    "weather = ['rain', 'snow', 'hail']\n",
    "observation = weather.pop()  # remove the last item from the list and store it in hydrometeor\n",
    "print(\"observation:\", observation)\n",
    "print(\"weather:\", weather)"
   ]
  },
  {
   "cell_type": "markdown",
   "metadata": {},
   "source": [
    "## In Class Exercise\n",
    "\n",
    "Given the list of weather above, extract snow from the list and print a statement that says 'Within the last 4 hours there have been 5 inches of snow'"
   ]
  },
  {
   "cell_type": "markdown",
   "metadata": {},
   "source": [
    "### Elements of a list can be changed "
   ]
  },
  {
   "cell_type": "code",
   "execution_count": 9,
   "metadata": {},
   "outputs": [
    {
     "name": "stdout",
     "output_type": "stream",
     "text": [
      "Before change: ['rain', 'snow', 'hail']\n",
      "After change: ['sleet', 'snow', 'hail']\n"
     ]
    }
   ],
   "source": [
    "weather = ['rain', 'snow', 'hail']\n",
    "print(\"Before change:\", weather)\n",
    "weather[0] = 'sleet'\n",
    "print(\"After change:\", weather)"
   ]
  },
  {
   "cell_type": "markdown",
   "metadata": {},
   "source": [
    "### Lists Indexing\n",
    "\n"
   ]
  },
  {
   "cell_type": "code",
   "execution_count": 10,
   "metadata": {},
   "outputs": [
    {
     "name": "stdout",
     "output_type": "stream",
     "text": [
      "index 0: rain\n",
      "index 1: snow\n",
      "index 2: hail\n"
     ]
    }
   ],
   "source": [
    "weather = ['rain', 'snow', 'hail']\n",
    "print('index 0:', weather[0])   # indexing begins at 0\n",
    "print('index 1:', weather[1])\n",
    "print('index 2:', weather[2])"
   ]
  },
  {
   "cell_type": "code",
   "execution_count": 11,
   "metadata": {},
   "outputs": [
    {
     "ename": "IndexError",
     "evalue": "list index out of range",
     "output_type": "error",
     "traceback": [
      "\u001b[0;31m---------------------------------------------------------------------------\u001b[0m",
      "\u001b[0;31mIndexError\u001b[0m                                Traceback (most recent call last)",
      "\u001b[0;32m<ipython-input-11-7706668d582b>\u001b[0m in \u001b[0;36m<module>\u001b[0;34m()\u001b[0m\n\u001b[0;32m----> 1\u001b[0;31m \u001b[0mweather\u001b[0m\u001b[0;34m[\u001b[0m\u001b[0;36m3\u001b[0m\u001b[0;34m]\u001b[0m  \u001b[0;31m# Trying to access elements which do not exist raises a IndexError\u001b[0m\u001b[0;34m\u001b[0m\u001b[0m\n\u001b[0m",
      "\u001b[0;31mIndexError\u001b[0m: list index out of range"
     ]
    }
   ],
   "source": [
    "weather[3]  # Trying to access elements which do not exist raises a IndexError"
   ]
  },
  {
   "cell_type": "code",
   "execution_count": 12,
   "metadata": {
    "scrolled": true
   },
   "outputs": [
    {
     "name": "stdout",
     "output_type": "stream",
     "text": [
      "index -1: hail\n",
      "index -2: snow\n",
      "index -3: rain\n"
     ]
    }
   ],
   "source": [
    "weather = ['rain', 'snow', 'hail']\n",
    "print('index -1:', weather[-1])\n",
    "print('index -2:', weather[-2])\n",
    "print('index -3:', weather[-3])"
   ]
  },
  {
   "cell_type": "markdown",
   "metadata": {},
   "source": [
    "### List slicing\n",
    "\n",
    "Syntax: list_variable[start:end:step]"
   ]
  },
  {
   "cell_type": "code",
   "execution_count": 13,
   "metadata": {},
   "outputs": [
    {
     "name": "stdout",
     "output_type": "stream",
     "text": [
      "['hail', 'drizzle']\n"
     ]
    }
   ],
   "source": [
    "weather = ['rain', 'snow', 'hail', 'drizzle', 'graupel', 'sleet']\n",
    "print(weather[2:4])  # select elements from index 2 to index 4"
   ]
  },
  {
   "cell_type": "code",
   "execution_count": 14,
   "metadata": {},
   "outputs": [
    {
     "data": {
      "text/plain": [
       "['rain', 'snow', 'hail']"
      ]
     },
     "execution_count": 14,
     "metadata": {},
     "output_type": "execute_result"
    }
   ],
   "source": [
    "weather[:3]  # start from beginning"
   ]
  },
  {
   "cell_type": "code",
   "execution_count": 15,
   "metadata": {},
   "outputs": [
    {
     "data": {
      "text/plain": [
       "['drizzle', 'graupel', 'sleet']"
      ]
     },
     "execution_count": 15,
     "metadata": {},
     "output_type": "execute_result"
    }
   ],
   "source": [
    "weather[3:]  # until the end"
   ]
  },
  {
   "cell_type": "code",
   "execution_count": 16,
   "metadata": {},
   "outputs": [
    {
     "data": {
      "text/plain": [
       "['drizzle', 'graupel']"
      ]
     },
     "execution_count": 16,
     "metadata": {},
     "output_type": "execute_result"
    }
   ],
   "source": [
    "weather[3:-1]  # negative indices"
   ]
  },
  {
   "cell_type": "raw",
   "metadata": {},
   "source": [
    "weather[1::2]  # every 2nd element"
   ]
  },
  {
   "cell_type": "markdown",
   "metadata": {},
   "source": [
    "## In Class Exercise\n",
    "\n",
    "Given the longer weather list above, slice a statement that says:\n",
    "\n",
    "#### 'NWS says that rain, snow and sleet are possible tomorrow'"
   ]
  },
  {
   "cell_type": "markdown",
   "metadata": {},
   "source": [
    "## Tuples\n",
    "\n",
    "One-dimensional, ordered container whose contents and length **CANNOT** change (immutable)."
   ]
  },
  {
   "cell_type": "code",
   "execution_count": 18,
   "metadata": {},
   "outputs": [
    {
     "name": "stdout",
     "output_type": "stream",
     "text": [
      "('rain', 'snow', 'hail')\n",
      "3\n"
     ]
    }
   ],
   "source": [
    "t = ('rain', 'snow', 'hail')\n",
    "print(t)\n",
    "print(len(t))"
   ]
  },
  {
   "cell_type": "code",
   "execution_count": 19,
   "metadata": {},
   "outputs": [
    {
     "ename": "TypeError",
     "evalue": "'tuple' object does not support item assignment",
     "output_type": "error",
     "traceback": [
      "\u001b[0;31m---------------------------------------------------------------------------\u001b[0m",
      "\u001b[0;31mTypeError\u001b[0m                                 Traceback (most recent call last)",
      "\u001b[0;32m<ipython-input-19-d4fc2c3241e8>\u001b[0m in \u001b[0;36m<module>\u001b[0;34m()\u001b[0m\n\u001b[0;32m----> 1\u001b[0;31m \u001b[0mt\u001b[0m\u001b[0;34m[\u001b[0m\u001b[0;36m0\u001b[0m\u001b[0;34m]\u001b[0m \u001b[0;34m=\u001b[0m \u001b[0;34m'sleet'\u001b[0m  \u001b[0;31m# tuples cannot be changed\u001b[0m\u001b[0;34m\u001b[0m\u001b[0m\n\u001b[0m",
      "\u001b[0;31mTypeError\u001b[0m: 'tuple' object does not support item assignment"
     ]
    }
   ],
   "source": [
    "t[0] = 'sleet'  # tuples cannot be changed"
   ]
  },
  {
   "cell_type": "markdown",
   "metadata": {},
   "source": [
    "Can be 'unpacked' to assign variable.  Often used with functions which return multiple items."
   ]
  },
  {
   "cell_type": "code",
   "execution_count": 20,
   "metadata": {},
   "outputs": [
    {
     "name": "stdout",
     "output_type": "stream",
     "text": [
      "observations: ('rain', 'snow', 'hail')\n",
      "obs1: rain\n",
      "obs2: snow\n",
      "obs3: hail\n"
     ]
    }
   ],
   "source": [
    "observations = ('rain', 'snow', 'hail')  # tuple with three elements\n",
    "obs1, obs2, obs3 = observations    # unpack tuple into obs1, obs2, obs3 variables\n",
    "print(\"observations:\", observations)\n",
    "print(\"obs1:\", obs1)\n",
    "print(\"obs2:\", obs2)\n",
    "print(\"obs3:\", obs3)"
   ]
  },
  {
   "cell_type": "markdown",
   "metadata": {},
   "source": [
    "## Strings\n",
    "\n",
    "Strings are a sequence of characters enclosed by single, double, or triple quotes. They can be words or numbers. You can convert an integer or float to a string with str().\n"
   ]
  },
  {
   "cell_type": "code",
   "execution_count": null,
   "metadata": {
    "collapsed": true
   },
   "outputs": [],
   "source": [
    "'Hi'\n",
    "b = \"Hello, I'm John\"\n",
    "print(b)\n",
    "\n",
    "a = 'On'\n",
    "b = 'Wisconsin'\n",
    "print(a + ' ' + b + '!')\n",
    "\n",
    "# Convert a float to a string\n",
    "str(5.43)"
   ]
  },
  {
   "cell_type": "markdown",
   "metadata": {},
   "source": [
    "## Formatting Strings\n",
    "\n",
    "Use the format function!"
   ]
  },
  {
   "cell_type": "code",
   "execution_count": null,
   "metadata": {
    "collapsed": true
   },
   "outputs": [],
   "source": [
    "x = 9.356392\n",
    "y = 29\n",
    "print('The value of x is {}'.format(x))\n",
    "print('The value of y is {}'.format(y))\n",
    "print('The value of x is {} and the value of y is {}'.format(x, y))\n",
    "print('The value of x is {:.3} and the value of y is {:04}'.format(x, y))"
   ]
  },
  {
   "cell_type": "markdown",
   "metadata": {},
   "source": [
    "You can also use the string modulo `%` operator"
   ]
  },
  {
   "cell_type": "code",
   "execution_count": null,
   "metadata": {
    "collapsed": true
   },
   "outputs": [],
   "source": [
    "print('The value of x is: %s' % x)"
   ]
  },
  {
   "cell_type": "markdown",
   "metadata": {},
   "source": [
    "The first string modulus % indicates the format of the variable after the second %\n",
    "\n"
   ]
  },
  {
   "cell_type": "code",
   "execution_count": null,
   "metadata": {
    "collapsed": true
   },
   "outputs": [],
   "source": [
    "x = '%6.1f is less than %3d' % (x, 10)\n",
    "print(x)"
   ]
  },
  {
   "cell_type": "markdown",
   "metadata": {},
   "source": [
    "## In Class Exercise\n",
    "\n",
    "Write a string that says 'Geog 473/673 is the best class ever!' line given the following..."
   ]
  },
  {
   "cell_type": "code",
   "execution_count": null,
   "metadata": {
    "collapsed": true
   },
   "outputs": [],
   "source": [
    "dept = 'Geog'\n",
    "classNum = 473\n",
    "classNum2 = 673"
   ]
  },
  {
   "cell_type": "markdown",
   "metadata": {},
   "source": [
    "## Dictionaries\n",
    "\n",
    "Unordered collection of key/value pairs whose size and content can change"
   ]
  },
  {
   "cell_type": "code",
   "execution_count": 12,
   "metadata": {},
   "outputs": [],
   "source": [
    "d = {'site': 'KDOX', 'wind_speed': 20, 'wind_direction': 'east'} "
   ]
  },
  {
   "cell_type": "code",
   "execution_count": 13,
   "metadata": {},
   "outputs": [
    {
     "name": "stdout",
     "output_type": "stream",
     "text": [
      "dict_keys(['site', 'wind_speed', 'wind_direction'])\n"
     ]
    }
   ],
   "source": [
    "print(d.keys())"
   ]
  },
  {
   "cell_type": "code",
   "execution_count": 14,
   "metadata": {},
   "outputs": [
    {
     "name": "stdout",
     "output_type": "stream",
     "text": [
      "dict_values(['KDOX', 20, 'east'])\n"
     ]
    }
   ],
   "source": [
    "print(d.values())"
   ]
  },
  {
   "cell_type": "code",
   "execution_count": 15,
   "metadata": {},
   "outputs": [
    {
     "name": "stdout",
     "output_type": "stream",
     "text": [
      "site: KDOX\n",
      "wind_speed: 20\n",
      "wind_direction: east\n"
     ]
    }
   ],
   "source": [
    "print('site:', d['site'])\n",
    "print('wind_speed:', d['wind_speed'])\n",
    "print('wind_direction:', d['wind_direction'])\n"
   ]
  },
  {
   "cell_type": "code",
   "execution_count": 16,
   "metadata": {},
   "outputs": [
    {
     "name": "stdout",
     "output_type": "stream",
     "text": [
      "wind before change: east\n",
      "wind after change: east\n"
     ]
    }
   ],
   "source": [
    "print(\"wind before change:\", d['wind_direction'])\n",
    "d['wind'] = 'west'\n",
    "print(\"wind after change:\", d['wind_direction'])"
   ]
  },
  {
   "cell_type": "markdown",
   "metadata": {},
   "source": [
    "Entries can be added or remove from dictionaries"
   ]
  },
  {
   "cell_type": "code",
   "execution_count": 17,
   "metadata": {},
   "outputs": [
    {
     "name": "stdout",
     "output_type": "stream",
     "text": [
      "{'site': 'KDOX', 'wind_speed': 20, 'wind_direction': 'east'}\n"
     ]
    }
   ],
   "source": [
    "d = {'site': 'KDOX', 'wind_speed': 20, 'wind_direction': 'east'} \n",
    "print(d)"
   ]
  },
  {
   "cell_type": "code",
   "execution_count": 18,
   "metadata": {},
   "outputs": [
    {
     "name": "stdout",
     "output_type": "stream",
     "text": [
      "{'site': 'KDOX', 'wind_speed': 20}\n"
     ]
    }
   ],
   "source": [
    "del d['wind_direction']\n",
    "print(d)"
   ]
  },
  {
   "cell_type": "code",
   "execution_count": 19,
   "metadata": {},
   "outputs": [
    {
     "name": "stdout",
     "output_type": "stream",
     "text": [
      "{'site': 'KDOX', 'wind_speed': '10 m/s', 'wind_direction': 'east'}\n"
     ]
    }
   ],
   "source": [
    "d['wind_direction']  = 'east'\n",
    "d['wind_speed'] = '10 m/s'\n",
    "print(d)"
   ]
  },
  {
   "cell_type": "markdown",
   "metadata": {},
   "source": [
    "Note: Dictionaries do **not** preserve the order in which entries are added.  If you need ordering use a [OrderedDict](https://docs.python.org/3.5/library/collections.html#collections.OrderedDict) from the **collections** module."
   ]
  },
  {
   "cell_type": "markdown",
   "metadata": {},
   "source": [
    "# Flow control\n",
    "\n",
    "## If statements"
   ]
  },
  {
   "cell_type": "code",
   "execution_count": 29,
   "metadata": {},
   "outputs": [
    {
     "name": "stdout",
     "output_type": "stream",
     "text": [
      "You saw rain\n"
     ]
    }
   ],
   "source": [
    "hydrometeor = 'rain'\n",
    "if hydrometeor == 'rain':\n",
    "    print(\"You saw rain\")"
   ]
  },
  {
   "cell_type": "code",
   "execution_count": 30,
   "metadata": {},
   "outputs": [
    {
     "name": "stdout",
     "output_type": "stream",
     "text": [
      "You did NOT see rain\n"
     ]
    }
   ],
   "source": [
    "hydrometeor = 'hail'\n",
    "if hydrometeor == 'rain':\n",
    "    print(\"You saw rain\")\n",
    "else:\n",
    "    print(\"You did NOT see rain\")"
   ]
  },
  {
   "cell_type": "code",
   "execution_count": 31,
   "metadata": {},
   "outputs": [
    {
     "name": "stdout",
     "output_type": "stream",
     "text": [
      "You saw snow\n"
     ]
    }
   ],
   "source": [
    "hydrometeor = 'snow'\n",
    "if hydrometeor == 'rain':\n",
    "    print(\"You saw rain\")\n",
    "elif hydrometeor == 'snow':\n",
    "    print(\"You saw snow\")\n",
    "else:\n",
    "    print(\"I do not know what you saw\")"
   ]
  },
  {
   "cell_type": "markdown",
   "metadata": {},
   "source": [
    "## For Loop\n",
    "`for`: executes a block of code for all items in an iterable object (string, list, tuple, array, etc.).\n",
    "\n",
    "For loop syntax:\n",
    "\n",
    "    for [variable to iterate] in [sequence]:\n",
    "        [do this code]\n",
    "\n",
    "The most important thing to note here is the code block below the if statement. Notice that it's indented.\n",
    "Everything within that block of the for loop must be on the same indent line. The tab button will indent code.\n",
    "A tab is equal to 4 spaces. \n",
    "\n",
    "[Reference: For Loop](https://www.tutorialspoint.com/python3/python_for_loop.htm)\n"
   ]
  },
  {
   "cell_type": "code",
   "execution_count": 23,
   "metadata": {},
   "outputs": [
    {
     "name": "stdout",
     "output_type": "stream",
     "text": [
      "rain\n",
      "snow\n",
      "hail\n"
     ]
    }
   ],
   "source": [
    "weather = ['rain', 'snow', 'hail']\n",
    "for hydrometeor in weather:  # loop over elements in a list\n",
    "    print(hydrometeor)"
   ]
  },
  {
   "cell_type": "code",
   "execution_count": 33,
   "metadata": {},
   "outputs": [
    {
     "name": "stdout",
     "output_type": "stream",
     "text": [
      "0\n",
      "1\n",
      "2\n",
      "3\n",
      "4\n"
     ]
    }
   ],
   "source": [
    "for i in range(5):  # loop over the number 0 to 4\n",
    "    print(i)"
   ]
  },
  {
   "cell_type": "code",
   "execution_count": 34,
   "metadata": {},
   "outputs": [
    {
     "name": "stdout",
     "output_type": "stream",
     "text": [
      "wind : east\n",
      "site : KLOT\n",
      "amount : 20\n"
     ]
    }
   ],
   "source": [
    "d = {'site': 'KLOT', 'amount': 20, 'wind': 'east'} \n",
    "for key, value in d.items():\n",
    "    print(key, ':', value)"
   ]
  },
  {
   "cell_type": "markdown",
   "metadata": {},
   "source": [
    "## Debug the following code"
   ]
  },
  {
   "cell_type": "code",
   "execution_count": null,
   "metadata": {},
   "outputs": [],
   "source": [
    "import math as ma\n",
    "from random import randrange\n",
    "\n",
    "for i in range(5.5):\n",
    "    print(mat.sqrt(i))\n",
    "\n",
    "weather <- ['rain', snow, 'sleet']\n",
    "amounts = [0.2, 3, 0.15]\n",
    "\n",
    "if weather == 'snow':\n",
    "if amounts > 2\n",
    "    print('It snowed more than 2 inches')"
   ]
  },
  {
   "cell_type": "markdown",
   "metadata": {},
   "source": [
    "# Libraries \n",
    "\n",
    "* Python has a large number of libraries which extend the basic functionality.\n",
    "* The standard library is included with Python and contains a number of helpful features.\n",
    "* Third-party libraries can add even more powerful functionality!\n",
    "* Libraries must be imported to be used.\n",
    "\n"
   ]
  },
  {
   "cell_type": "code",
   "execution_count": 47,
   "metadata": {
    "collapsed": true
   },
   "outputs": [],
   "source": [
    "import math  # import the entire math module"
   ]
  },
  {
   "cell_type": "code",
   "execution_count": 48,
   "metadata": {},
   "outputs": [
    {
     "data": {
      "text/plain": [
       "1.4142135623730951"
      ]
     },
     "execution_count": 48,
     "metadata": {},
     "output_type": "execute_result"
    }
   ],
   "source": [
    "math.sqrt(2)"
   ]
  },
  {
   "cell_type": "code",
   "execution_count": 20,
   "metadata": {},
   "outputs": [],
   "source": [
    "import math as m"
   ]
  },
  {
   "cell_type": "code",
   "execution_count": 21,
   "metadata": {},
   "outputs": [
    {
     "data": {
      "text/plain": [
       "1.4142135623730951"
      ]
     },
     "execution_count": 21,
     "metadata": {},
     "output_type": "execute_result"
    }
   ],
   "source": [
    "m.sqrt(2)"
   ]
  },
  {
   "cell_type": "code",
   "execution_count": 49,
   "metadata": {
    "collapsed": true
   },
   "outputs": [],
   "source": [
    "from random import randrange   # import just the randrange function from the random module"
   ]
  },
  {
   "cell_type": "code",
   "execution_count": 50,
   "metadata": {},
   "outputs": [
    {
     "name": "stdout",
     "output_type": "stream",
     "text": [
      "3\n",
      "3\n",
      "8\n",
      "3\n",
      "5\n"
     ]
    }
   ],
   "source": [
    "for i in range(5):\n",
    "    print(randrange(1, 10))"
   ]
  },
  {
   "cell_type": "markdown",
   "metadata": {},
   "source": [
    "# Functions"
   ]
  },
  {
   "cell_type": "code",
   "execution_count": 14,
   "metadata": {},
   "outputs": [],
   "source": [
    "# simple\n",
    "def func(arg1):\n",
    "    print(arg1)\n",
    "    return 42"
   ]
  },
  {
   "cell_type": "markdown",
   "metadata": {},
   "source": [
    "Functions can have multiple, no and even default arguments"
   ]
  },
  {
   "cell_type": "code",
   "execution_count": 25,
   "metadata": {},
   "outputs": [],
   "source": [
    "def add_numbers(number1, number2):\n",
    "    return number1 + number2\n",
    "\n",
    "def say_hello():\n",
    "    print(\"Hello !!\")\n",
    "    \n",
    "def favorite_hydrometeor(name, tvshow='Game of Thrones...well minus the last season'):\n",
    "    print(\"Hello\", name)\n",
    "    print(\"Your favorite tvshow is\", tvshow)"
   ]
  },
  {
   "cell_type": "code",
   "execution_count": 26,
   "metadata": {},
   "outputs": [
    {
     "name": "stdout",
     "output_type": "stream",
     "text": [
      "Hello World\n",
      "ret_value: 42\n"
     ]
    }
   ],
   "source": [
    "# call a function\n",
    "return_value = func(\"Hello World\")\n",
    "print(\"ret_value:\", return_value)"
   ]
  },
  {
   "cell_type": "code",
   "execution_count": 27,
   "metadata": {},
   "outputs": [
    {
     "name": "stdout",
     "output_type": "stream",
     "text": [
      "3\n"
     ]
    }
   ],
   "source": [
    "print(add_numbers(1, 2))"
   ]
  },
  {
   "cell_type": "code",
   "execution_count": 28,
   "metadata": {},
   "outputs": [
    {
     "name": "stdout",
     "output_type": "stream",
     "text": [
      "Hello !!\n"
     ]
    }
   ],
   "source": [
    "say_hello()"
   ]
  },
  {
   "cell_type": "code",
   "execution_count": 29,
   "metadata": {
    "scrolled": true
   },
   "outputs": [
    {
     "name": "stdout",
     "output_type": "stream",
     "text": [
      "Hello Jonathan\n",
      "Your favorite tvshow is Game of Thrones...well minus the last season\n"
     ]
    }
   ],
   "source": [
    "favorite_hydrometeor(\"Jonathan\")"
   ]
  },
  {
   "cell_type": "markdown",
   "metadata": {},
   "source": [
    "Functions can return multiple values:"
   ]
  },
  {
   "cell_type": "code",
   "execution_count": 7,
   "metadata": {},
   "outputs": [],
   "source": [
    "def area(radius):\n",
    "    area = 3.14 * (radius**2)\n",
    "    return area, area*2, area*3, \"\""
   ]
  },
  {
   "cell_type": "code",
   "execution_count": 8,
   "metadata": {},
   "outputs": [
    {
     "data": {
      "text/plain": [
       "(50.24, 100.48, 150.72, 'statement ')"
      ]
     },
     "execution_count": 8,
     "metadata": {},
     "output_type": "execute_result"
    }
   ],
   "source": [
    "area(4)"
   ]
  }
 ],
 "metadata": {
  "kernelspec": {
   "display_name": "Python [default]",
   "language": "python",
   "name": "python3"
  },
  "language_info": {
   "codemirror_mode": {
    "name": "ipython",
    "version": 3
   },
   "file_extension": ".py",
   "mimetype": "text/x-python",
   "name": "python",
   "nbconvert_exporter": "python",
   "pygments_lexer": "ipython3",
   "version": "3.5.5"
  }
 },
 "nbformat": 4,
 "nbformat_minor": 1
}
