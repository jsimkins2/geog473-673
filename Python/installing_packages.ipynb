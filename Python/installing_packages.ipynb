{
 "cells": [
  {
   "cell_type": "markdown",
   "metadata": {},
   "source": [
    "<div>\n",
    "<img src=\"images/anaconda_logo.png\" width=\"400\"/>\n",
    "</div>\n",
    "\n",
    "# Anaconda & Spyder\n",
    "\n",
    "Anaconda is a free and open-source distribution of the Python and R programming languages for scientific computing, that aims to simplify package management and deployment. We'll be using Spyder as our programming application for this class. Spyder makes coding in Python more human-friendly. "
   ]
  },
  {
   "cell_type": "markdown",
   "metadata": {},
   "source": [
    "- Download Anaconda (it's free): https://www.anaconda.com/products/individual"
   ]
  },
  {
   "cell_type": "markdown",
   "metadata": {},
   "source": [
    "### Environments\n",
    "- Environments are a collection of packages designed to work together. Imagine a Jungle environment, an Arctic Tundra environment, a Desert environment, etc. \n",
    "- Environments are separate from each other and packages installed in one environment are not installed in another unless we explicitly tell Python to do that. \n",
    "- They contain certain **versions** of packages that other packages require. \n",
    "- Often times a higher level package will require specific versions of basic lower level packages.\n",
    "- MetPy 0.11.1 might work with numPy 2.2.12, but might not work with numPy 2.2.13. We must pay close attention to this.\n",
    "- Environments can also be used to contain different versions of Python (3.8, 3.7, etc.)\n",
    "- It's always a good idea to create a new environment if you're nervous a unique package might disrupt an environment\n",
    "\n",
    "### Packages/Modules/Libraries \n",
    "- Packages are pre-written functions people have written for the benefit of all Python users.\n",
    "- We import packages to tell Python we want to use some functions that exist within that package.\n",
    "- Packages **must be installed** before they can be imported \n",
    "- Python will get confused and will not run if you attempt to use a function without loading in the package.\n",
    "- A package is a toolbox. A function is the tool within the toolbox.\n",
    "- Imagine we import the `wrench-toolbox` package to use the `small-wrench` function\n",
    "\n",
    "### General Rules\n",
    "- When you install a new package, new packages will be downloaded. Sometimes existing packages will be upgraded, and sometimes they'll be **downgraded**. **Downgrading can cause real issues between packages**. If this happens, create a new environment and install the new package *first*. *Note that if the 'downgraded' packages are 'anaconda' or 'conda' related packages, these likely won't hurt any packages you already have installed. You can ignore these related packages and proceed.*\n",
    "\n",
    "- Sometimes you'll see packages being **SUPERSEDED BY HIGHER PRIORITY CHANNEL**. All this means is that anaconda recognizes you're downloading certain packages from a source that isn't as high on the priority list as another one. This doesn't normally cause any issues. \n",
    "\n",
    "- `conda install -c conda-forge cartopy` vs. `conda install -c cartopy` is an example of two different \"Channels\" that you can download the `cartopy` library from. Conda-forge is very high on the priority list and is often considered equal to just plain old anaconda channels. \n",
    "\n",
    "### Package Installs for this class\n",
    "\n",
    "- **MetPy** - `conda install -c conda-forge/label/cf202003 metpy`\n",
    "- **Cartopy** - `conda install -c conda-forge cartopy`\n",
    "- **netcdf4** - `conda install -c anaconda netcdf4`\n",
    "- **pytest** - `conda install -c anaconda pytest`\n",
    "\n",
    "*Installing MetPy alone will install ~95% of the other packages we will need*"
   ]
  },
  {
   "cell_type": "markdown",
   "metadata": {},
   "source": [
    "## Installing a Python Package via Anaconda\n",
    "\n",
    "\n",
    "### 1) Launch Anaconda Navigator\n",
    "\n",
    "<div>\n",
    "<img src=\"images/anaconda_logo.png\" width=\"300\"/>\n",
    "</div>\n",
    "\n",
    "<div>\n",
    "<img src=\"images/navigator1.png\" width=\"900\"/>\n",
    "</div>"
   ]
  },
  {
   "cell_type": "markdown",
   "metadata": {},
   "source": [
    "### 2) Go to Environments\n",
    "\n",
    ".\n",
    "\n",
    "<div>\n",
    "<img src=\"images/environment1.png\" width=\"900\"/>\n",
    "</div>"
   ]
  },
  {
   "cell_type": "markdown",
   "metadata": {},
   "source": [
    "### 3) Check if the `cartopy` package is installed\n",
    "\n",
    ".\n",
    "\n",
    "<div>\n",
    "<img src=\"images/check_package.png\" width=\"900\"/>\n",
    "</div>"
   ]
  },
  {
   "cell_type": "markdown",
   "metadata": {},
   "source": [
    "**It's not installed! Let's check if it's located under our \"Not Installed\" common set of packages**"
   ]
  },
  {
   "cell_type": "markdown",
   "metadata": {},
   "source": [
    ".\n",
    "\n",
    "<div>\n",
    "<img src=\"images/notinstalled.png\" width=\"900\"/>\n",
    "</div>"
   ]
  },
  {
   "cell_type": "markdown",
   "metadata": {},
   "source": [
    "**There it is! Simply select 'cartopy' and then click 'Apply' to install the package under the highlighted environment**\n",
    "\n",
    "\n",
    "\n",
    "\n",
    "\n",
    "."
   ]
  },
  {
   "cell_type": "markdown",
   "metadata": {},
   "source": [
    "# What if the package isn't under the \"Not Installed\" common set of packages?\n",
    "\n",
    "\n",
    "### We need to install by hand. Select the 'Open in Terminal' option like so...\n",
    ".\n",
    "\n",
    "<div>\n",
    "<img src=\"images/terminal_install1.png\" width=\"900\"/>\n",
    "</div>"
   ]
  },
  {
   "cell_type": "markdown",
   "metadata": {},
   "source": [
    "**The terminal will open. A terminal allows you to speak directly to the computer, thus erasing 'Anaconda Navigator' as the middle man for the package we successfully installed above**\n",
    "\n",
    ".\n",
    "\n",
    "<div>\n",
    "<img src=\"images/launced_terminal.png\" width=\"900\"/>\n",
    "</div>"
   ]
  },
  {
   "cell_type": "markdown",
   "metadata": {},
   "source": [
    "### Google search the desired package\n",
    "\n",
    ".\n",
    "\n",
    "<div>\n",
    "<img src=\"images/googlesearch1.png\" width=\"900\"/>\n",
    "</div>"
   ]
  },
  {
   "cell_type": "markdown",
   "metadata": {},
   "source": [
    "### Find Anaconda Cloud Link\n",
    "\n",
    ".\n",
    "\n",
    "<div>\n",
    "<img src=\"images/googlesearch2.png\" width=\"900\"/>\n",
    "</div>"
   ]
  },
  {
   "cell_type": "markdown",
   "metadata": {},
   "source": [
    "### Select top line to run in terminal\n",
    "\n",
    ".\n",
    "\n",
    "<div>\n",
    "<img src=\"images/googlesearch3.png\" width=\"900\"/>\n",
    "</div>"
   ]
  },
  {
   "cell_type": "markdown",
   "metadata": {},
   "source": [
    "### Paste in Terminal and Run! (hit enter)\n",
    "\n",
    ".\n",
    "\n",
    "<div>\n",
    "<img src=\"images/paste_cartopy.png\" width=\"900\"/>\n",
    "</div>\n",
    "\n",
    "This is equivalent to you selecting a package under 'Not Installed' and clicking 'Apply' to install it!"
   ]
  },
  {
   "cell_type": "code",
   "execution_count": null,
   "metadata": {},
   "outputs": [],
   "source": []
  }
 ],
 "metadata": {
  "kernelspec": {
   "display_name": "Python 3",
   "language": "python",
   "name": "python3"
  },
  "language_info": {
   "codemirror_mode": {
    "name": "ipython",
    "version": 3
   },
   "file_extension": ".py",
   "mimetype": "text/x-python",
   "name": "python",
   "nbconvert_exporter": "python",
   "pygments_lexer": "ipython3",
   "version": "3.8.5"
  }
 },
 "nbformat": 4,
 "nbformat_minor": 2
}
